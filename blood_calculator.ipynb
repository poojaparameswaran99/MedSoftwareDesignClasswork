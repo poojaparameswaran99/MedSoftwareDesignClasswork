{
 "cells": [
  {
   "cell_type": "code",
   "execution_count": null,
   "id": "25febd3f",
   "metadata": {},
   "outputs": [],
   "source": [
    "def interface():\n",
    "    print(\"Blood calculator\")\n",
    "    keep_running = True\n",
    "    while keep_running:\n",
    "        print(\"Options:\")\n",
    "        print(\"9 - Quit\")\n",
    "        choice = input(\"Select an option:\")\n",
    "        if choice == \"9\":\n",
    "            keep_running = False\n",
    "        print(\"Program ending\")\n",
    "        \n",
    "        "
   ]
  },
  {
   "cell_type": "code",
   "execution_count": null,
   "id": "7f03ba58",
   "metadata": {},
   "outputs": [],
   "source": [
    "interface()"
   ]
  }
 ],
 "metadata": {
  "kernelspec": {
   "display_name": "Python 3 (Spyder)",
   "language": "python3",
   "name": "python3"
  },
  "language_info": {
   "codemirror_mode": {
    "name": "ipython",
    "version": 3
   },
   "file_extension": ".py",
   "mimetype": "text/x-python",
   "name": "python",
   "nbconvert_exporter": "python",
   "pygments_lexer": "ipython3",
   "version": "3.9.13"
  }
 },
 "nbformat": 4,
 "nbformat_minor": 5
}
