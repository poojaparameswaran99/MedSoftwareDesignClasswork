{
 "cells": [
  {
   "cell_type": "code",
   "execution_count": 1,
   "id": "c2ce02c9",
   "metadata": {},
   "outputs": [],
   "source": [
    "def interface():\n",
    "    print(\"Blood calculator\")\n",
    "    keep_running = True\n",
    "    while keep_running:\n",
    "        print(\"Options:\")\n",
    "        print(\"9 - Quit\")\n",
    "        choice = input(\"Select an option:\")\n",
    "        if choice == \"9\":\n",
    "            keep_running = False\n",
    "        print(\"Program ending\")\n",
    "        \n",
    "        "
   ]
  },
  {
   "cell_type": "code",
   "execution_count": 2,
   "id": "c1c578b2",
   "metadata": {},
   "outputs": [
    {
     "name": "stdout",
     "output_type": "stream",
     "text": [
      "Blood calculator\n",
      "Options:\n",
      "9 - Quit\n"
     ]
    },
    {
     "name": "stdin",
     "output_type": "stream",
     "text": [
      "Select an option: 10\n"
     ]
    },
    {
     "name": "stdout",
     "output_type": "stream",
     "text": [
      "Program ending\n",
      "Options:\n",
      "9 - Quit\n"
     ]
    },
    {
     "name": "stdin",
     "output_type": "stream",
     "text": [
      "Select an option: 10\n"
     ]
    },
    {
     "name": "stdout",
     "output_type": "stream",
     "text": [
      "Program ending\n",
      "Options:\n",
      "9 - Quit\n"
     ]
    },
    {
     "name": "stdin",
     "output_type": "stream",
     "text": [
      "Select an option: 11\n"
     ]
    },
    {
     "name": "stdout",
     "output_type": "stream",
     "text": [
      "Program ending\n",
      "Options:\n",
      "9 - Quit\n"
     ]
    },
    {
     "name": "stdin",
     "output_type": "stream",
     "text": [
      "Select an option: \n"
     ]
    },
    {
     "name": "stdout",
     "output_type": "stream",
     "text": [
      "Program ending\n",
      "Options:\n",
      "9 - Quit\n"
     ]
    },
    {
     "name": "stdin",
     "output_type": "stream",
     "text": [
      "Select an option: 9\n"
     ]
    },
    {
     "name": "stdout",
     "output_type": "stream",
     "text": [
      "Program ending\n"
     ]
    }
   ],
   "source": [
    "interface()"
   ]
  },
  {
   "cell_type": "code",
   "execution_count": 4,
   "id": "d99863ff",
   "metadata": {},
   "outputs": [],
   "source": [
    "def HDL_input():\n",
    "    HDL_value = input(\"Enter the HDL result:\")\n",
    "    HDL_value= int(HDL_value)\n",
    "    return HDL_value"
   ]
  },
  {
   "cell_type": "code",
   "execution_count": null,
   "id": "b507e66b",
   "metadata": {},
   "outputs": [],
   "source": []
  }
 ],
 "metadata": {
  "kernelspec": {
   "display_name": "Python 3 (Spyder)",
   "language": "python3",
   "name": "python3"
  },
  "language_info": {
   "codemirror_mode": {
    "name": "ipython",
    "version": 3
   },
   "file_extension": ".py",
   "mimetype": "text/x-python",
   "name": "python",
   "nbconvert_exporter": "python",
   "pygments_lexer": "ipython3",
   "version": "3.9.13"
  }
 },
 "nbformat": 4,
 "nbformat_minor": 5
}
